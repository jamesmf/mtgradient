{
 "cells": [
  {
   "cell_type": "code",
   "execution_count": null,
   "id": "8504db10",
   "metadata": {},
   "outputs": [],
   "source": [
    "import re\n",
    "import csv\n",
    "import os\n",
    "import json\n",
    "import datetime\n",
    "import typing as T\n",
    "import functools\n",
    "from copy import deepcopy\n",
    "\n",
    "import torch\n",
    "import plotly.express as px\n",
    "import pytorch_lightning as pl\n",
    "import mlflow\n",
    "import pandas as pd\n",
    "\n",
    "import mtgradient\n",
    "from mtgradient import processing, datasets, models"
   ]
  },
  {
   "cell_type": "code",
   "execution_count": null,
   "id": "9c5cfb73",
   "metadata": {},
   "outputs": [],
   "source": [
    "%load_ext nb_black"
   ]
  },
  {
   "cell_type": "code",
   "execution_count": null,
   "id": "52783f9f",
   "metadata": {},
   "outputs": [],
   "source": [
    "# ! pip install mlflow\n",
    "mlflow.pytorch.autolog(log_models=False, log_every_n_step=100)"
   ]
  },
  {
   "cell_type": "code",
   "execution_count": null,
   "id": "12c758de",
   "metadata": {},
   "outputs": [],
   "source": [
    "draft_csv_path = \"data/draft_data_public.NEO.PremierDraft.csv\"\n",
    "# draft_csv_path = \"tests/testdata/test_premier_draft.csv\"\n",
    "cache_path = \"data/cached/neo_premier_draft\"\n",
    "# cache_path = \"tests/testdata/\"\n",
    "test_split_cutoff = pd.Timestamp(datetime.date(2022, 3, 11))\n",
    "recent_game_cutoff = test_split_cutoff - datetime.timedelta(7)\n",
    "\n",
    "LOAD_CACHED = False"
   ]
  },
  {
   "cell_type": "code",
   "execution_count": null,
   "id": "c459bccf",
   "metadata": {},
   "outputs": [],
   "source": []
  },
  {
   "cell_type": "code",
   "execution_count": null,
   "id": "a314750d",
   "metadata": {
    "scrolled": false
   },
   "outputs": [],
   "source": [
    "if not LOAD_CACHED:\n",
    "    parsed_data, card_ids = processing.parse_csv(draft_csv_path, verbose=True)\n",
    "    os.makedirs(cache_path, exist_ok=True)\n",
    "    processing.persist_processed_dataset(cache_path, parsed_data, card_ids)\n",
    "else:\n",
    "    parsed_data, card_ids = processing.load_processed_dataset(cache_path)"
   ]
  },
  {
   "cell_type": "code",
   "execution_count": null,
   "id": "67f3e6c1",
   "metadata": {},
   "outputs": [],
   "source": []
  },
  {
   "cell_type": "code",
   "execution_count": null,
   "id": "cbf4462f",
   "metadata": {},
   "outputs": [],
   "source": [
    "train_subset = {\n",
    "    k: v\n",
    "    for k, v in parsed_data.items()\n",
    "    if v.get(\"draft_time\", datetime.date(1999, 9, 9)) < test_split_cutoff\n",
    "}\n",
    "val_subset = {\n",
    "    k: v\n",
    "    for k, v in parsed_data.items()\n",
    "    if v.get(\"draft_time\", datetime.date(1999, 9, 9)) >= test_split_cutoff\n",
    "}\n",
    "\n",
    "train_draft_dataset = datasets.DraftDataset(train_subset, recent_game_cutoff)\n",
    "val_draft_dataset = datasets.DraftDataset(val_subset, test_split_cutoff, use_all=True)\n",
    "\n",
    "small = set(list(train_subset.keys())[:500])\n",
    "check_draft_dataset = datasets.DraftDataset({k: v for k, v in train_subset.items() \n",
    "                                             if k in small}, recent_game_cutoff)\n"
   ]
  },
  {
   "cell_type": "code",
   "execution_count": null,
   "id": "1b938856",
   "metadata": {},
   "outputs": [],
   "source": [
    "len(val_subset), len(train_subset)"
   ]
  },
  {
   "cell_type": "code",
   "execution_count": null,
   "id": "0004d12a",
   "metadata": {},
   "outputs": [],
   "source": [
    "len(parsed_data)"
   ]
  },
  {
   "cell_type": "code",
   "execution_count": null,
   "id": "45979a8e",
   "metadata": {},
   "outputs": [],
   "source": [
    "data_out = []\n",
    "for draft_id, draft in train_subset.items():\n",
    "    sub_data = {\n",
    "        \"rank\": draft[\"rank\"] if draft[\"rank\"] else \"NA\",\n",
    "        \"event_match_wins\": draft[\"event_match_wins\"],\n",
    "        \"user_game_win_rate_bucket\": draft[\"user_game_win_rate_bucket\"],\n",
    "        \"draft_time\": draft[\"draft_time\"],\n",
    "    }\n",
    "    for round_num in range(len(draft[\"pick_data\"])):\n",
    "        weights = train_draft_dataset.get_weights(draft, round_num)\n",
    "        cp = deepcopy(sub_data)\n",
    "        cp[\"w1\"] = weights[0]\n",
    "        cp[\"w2\"] = weights[1]\n",
    "        cp[\"round\"] = round_num\n",
    "        data_out.append(cp)\n",
    "    if len(data_out) > 10000:\n",
    "        break\n",
    "df_out = pd.DataFrame(data_out)"
   ]
  },
  {
   "cell_type": "code",
   "execution_count": null,
   "id": "57845e72",
   "metadata": {},
   "outputs": [],
   "source": [
    "df_out.head()"
   ]
  },
  {
   "cell_type": "code",
   "execution_count": null,
   "id": "d5cee314",
   "metadata": {},
   "outputs": [],
   "source": [
    "# px.scatter(\n",
    "#     df_out,\n",
    "#     x=\"round\",\n",
    "#     y=\"w1\",\n",
    "#     color=\"rank\",\n",
    "#     hover_data=[\"user_game_win_rate_bucket\", \"event_match_wins\"],\n",
    "#     category_orders={\"rank\": [\"mythic\", \"diamond\", \"platinum\", \"gold\", \"silver\", \"NA\"]},\n",
    "#     color_discrete_sequence=[\"orange\", \"teal\", \"green\", \"yellow\", \"silver\", \"black\"],\n",
    "# )"
   ]
  },
  {
   "cell_type": "code",
   "execution_count": null,
   "id": "a15a6d29",
   "metadata": {},
   "outputs": [],
   "source": [
    "# px.scatter(\n",
    "#     df_out,\n",
    "#     x=\"round\",\n",
    "#     y=\"w2\",\n",
    "#     color=\"rank\",\n",
    "#     hover_data=[\"user_game_win_rate_bucket\", \"event_match_wins\"],\n",
    "#     category_orders={\"rank\": [\"mythic\", \"diamond\", \"platinum\", \"gold\", \"silver\", \"NA\"]},\n",
    "#     color_discrete_sequence=[\"orange\", \"teal\", \"green\", \"yellow\", \"silver\", \"black\"],\n",
    "# )\n",
    "# px.histogram(df_out, x=\"draft_time\", cumulative=True, histnorm=\"percent\")"
   ]
  },
  {
   "cell_type": "code",
   "execution_count": null,
   "id": "11257b06",
   "metadata": {
    "scrolled": false
   },
   "outputs": [],
   "source": [
    "# import importlib as imp\n",
    "\n",
    "# imp.reload(models)\n",
    "\n",
    "model = models.DraftTransformer(n_cards=500, emb_dim=512, n_cards_in_pack=16).to(\n",
    "    \"cuda:0\"\n",
    ")\n",
    "# model = model.to_torchscript()\n",
    "\n",
    "print(\n",
    "    model(\n",
    "        models.collate_batch([next(iter(train_draft_dataset))], device=\"cuda:0\"),\n",
    "        #         debug=True,\n",
    "    )\n",
    ")"
   ]
  },
  {
   "cell_type": "code",
   "execution_count": null,
   "id": "80efdbba",
   "metadata": {
    "scrolled": false
   },
   "outputs": [],
   "source": [
    "try:\n",
    "    mlflow.end_run()\n",
    "except Exception as e:\n",
    "    pass\n",
    "mlflow.start_run()\n",
    "\n",
    "checkpoint = pl.callbacks.ModelCheckpoint(save_weights_only=True, filename=\"model\")\n",
    "trainer = pl.Trainer(\n",
    "    gpus=[0],\n",
    "    max_steps=model.n_steps,\n",
    "    profiler=\"simple\",\n",
    "    precision=16,\n",
    "    callbacks=[checkpoint],\n",
    "    #     max_epochs=1\n",
    "    benchmark=True,\n",
    "    check_val_every_n_epoch=2,\n",
    "#     limit_val_batches=0.1,\n",
    ")\n",
    "\n",
    "\n",
    "train_dl = torch.utils.data.DataLoader(\n",
    "    train_draft_dataset,\n",
    "    batch_size=200,\n",
    "    shuffle=True,\n",
    "    drop_last=True,\n",
    "    collate_fn=models.collate_batch,\n",
    "    num_workers=2,\n",
    "    pin_memory=True,\n",
    ")\n",
    "val_dl = torch.utils.data.DataLoader(\n",
    "    val_draft_dataset,\n",
    "    batch_size=200,\n",
    "    shuffle=False,\n",
    "    drop_last=False,\n",
    "    collate_fn=models.collate_batch,\n",
    "    num_workers=2,\n",
    "    pin_memory=True,\n",
    ")\n",
    "\n",
    "\n",
    "trainer.fit(model, train_dl, val_dl)"
   ]
  },
  {
   "cell_type": "code",
   "execution_count": null,
   "id": "6fa90c91",
   "metadata": {
    "scrolled": false
   },
   "outputs": [],
   "source": [
    "dp = checkpoint.dirpath\n",
    "fn = os.listdir(trainer.checkpoint_callback.dirpath)[0]\n",
    "checkpoint_path = os.path.join(dp, fn)\n",
    "mlflow.log_artifact(checkpoint_path)\n",
    "\n",
    "card_id_path = f\"{dp}/card_ids.json\"\n",
    "with open(card_id_path, \"w\") as f:\n",
    "    json.dump(card_ids, f)\n",
    "\n",
    "mlflow.log_artifact(card_id_path)"
   ]
  },
  {
   "cell_type": "code",
   "execution_count": null,
   "id": "48105429",
   "metadata": {},
   "outputs": [],
   "source": [
    "val_iter = iter(val_draft_dataset)\n",
    "bt = [next(val_iter) for _ in range(10)]\n",
    "collated = models.collate_batch(bt, device=\"cpu\")\n",
    "model.eval()\n",
    "model.to(\"cpu\")\n",
    "pred_a, pred_b = model(collated)"
   ]
  },
  {
   "cell_type": "code",
   "execution_count": null,
   "id": "a5caee72",
   "metadata": {},
   "outputs": [],
   "source": [
    "collated[\"picks\"].shape, pred_a.shape, collated[\"pick_weights\"]"
   ]
  },
  {
   "cell_type": "code",
   "execution_count": null,
   "id": "3dd68a54",
   "metadata": {},
   "outputs": [],
   "source": [
    "acc(pred_a, collated[\"picks\"])"
   ]
  },
  {
   "cell_type": "code",
   "execution_count": null,
   "id": "66722c63",
   "metadata": {},
   "outputs": [],
   "source": [
    "import numpy as np\n",
    "\n",
    "np.set_printoptions(precision=4)\n",
    "np.set_printoptions(suppress=True)\n",
    "\n",
    "print(np.round(np.exp(pred_a.detach().numpy()), 2))"
   ]
  },
  {
   "cell_type": "code",
   "execution_count": null,
   "id": "5510c52b",
   "metadata": {
    "scrolled": false
   },
   "outputs": [],
   "source": [
    "collated"
   ]
  },
  {
   "cell_type": "code",
   "execution_count": null,
   "id": "0dade0e6",
   "metadata": {},
   "outputs": [],
   "source": [
    "# bt0_opts = set(bt[0][\"options\"])\n",
    "# for d, draft in train_subset.items():\n",
    "#     for pack in draft[\"pack_data\"]:\n",
    "#         s = set(pack)\n",
    "#         if len(s.intersection(bt0_opts)) == len(bt0_opts):\n",
    "#             print(draft)"
   ]
  },
  {
   "cell_type": "code",
   "execution_count": null,
   "id": "a061ebf9",
   "metadata": {},
   "outputs": [],
   "source": []
  },
  {
   "cell_type": "code",
   "execution_count": null,
   "id": "bb9cc5a9",
   "metadata": {},
   "outputs": [],
   "source": []
  },
  {
   "cell_type": "code",
   "execution_count": null,
   "id": "c3399dac",
   "metadata": {
    "scrolled": true
   },
   "outputs": [],
   "source": [
    "# model.eval()\n",
    "# np.allclose(\n",
    "#     model(\n",
    "#         collated,\n",
    "#     )[0][:5]\n",
    "#     .detach()\n",
    "#     .cpu(),\n",
    "#     model({k: v[:5] for k, v in collated.items()})[0].detach().cpu(),\n",
    "# )"
   ]
  },
  {
   "cell_type": "code",
   "execution_count": null,
   "id": "538463ad",
   "metadata": {},
   "outputs": [],
   "source": [
    "import torchmetrics\n",
    "import numpy as np\n",
    "\n",
    "np.set_printoptions(precision=3)\n",
    "np.set_printoptions(suppress=True)\n",
    "\n",
    "acc = torchmetrics.Accuracy(\n",
    "    average=\"samples\",\n",
    ")\n",
    "\n",
    "bt = [next(val_iter) for _ in range(30)]\n",
    "collated = models.collate_batch(bt, device=\"cpu\")\n",
    "\n",
    "acc(\n",
    "    model(\n",
    "        collated,\n",
    "    )[0],\n",
    "    collated[\"picks\"],\n",
    ")\n",
    "# model(collated,)[\n",
    "#     0\n",
    "# ].argmax(axis=1)"
   ]
  },
  {
   "cell_type": "code",
   "execution_count": null,
   "id": "c4995a26",
   "metadata": {},
   "outputs": [],
   "source": [
    "model2 = models.DraftTransformer.load_from_checkpoint(\n",
    "    \"artifacts/epoch=0-step=438.ckpt\", n_cards=300, emb_dim=512, n_cards_in_pack=16\n",
    ").to(\"cpu\")"
   ]
  },
  {
   "cell_type": "code",
   "execution_count": null,
   "id": "c92d8d88",
   "metadata": {},
   "outputs": [],
   "source": [
    "model.eval()\n",
    "model2.eval()"
   ]
  }
 ],
 "metadata": {
  "kernelspec": {
   "display_name": "Python 3 (ipykernel)",
   "language": "python",
   "name": "python3"
  },
  "language_info": {
   "codemirror_mode": {
    "name": "ipython",
    "version": 3
   },
   "file_extension": ".py",
   "mimetype": "text/x-python",
   "name": "python",
   "nbconvert_exporter": "python",
   "pygments_lexer": "ipython3",
   "version": "3.9.12"
  }
 },
 "nbformat": 4,
 "nbformat_minor": 5
}
